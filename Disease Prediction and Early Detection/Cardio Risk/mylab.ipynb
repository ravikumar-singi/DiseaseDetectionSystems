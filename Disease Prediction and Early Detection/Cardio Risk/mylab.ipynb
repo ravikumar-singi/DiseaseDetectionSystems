{
 "cells": [
  {
   "cell_type": "markdown",
   "metadata": {},
   "source": [
    "## Task 1: Import Modules"
   ]
  },
  {
   "cell_type": "code",
   "execution_count": null,
   "metadata": {},
   "outputs": [],
   "source": [
    "%pip install -r requirements.txt"
   ]
  },
  {
   "cell_type": "code",
   "execution_count": null,
   "metadata": {},
   "outputs": [],
   "source": [
    "import numpy as np\n",
    "import pandas as pd\n",
    "import matplotlib.pyplot as plt\n",
    "import seaborn as sns\n",
    "from sklearn.model_selection import train_test_split\n",
    "from sklearn.preprocessing import LabelEncoder \n",
    "from sklearn.ensemble import RandomForestClassifier\n",
    "from sklearn.metrics import accuracy_score, classification_report, confusion_matrix, roc_auc_score\n",
    "import warnings\n",
    "warnings.filterwarnings('ignore')"
   ]
  },
  {
   "cell_type": "code",
   "execution_count": null,
   "metadata": {},
   "outputs": [],
   "source": [
    "## Task 2: Load the Dataset\n",
    "df = pd.read_csv('CVD.csv', encoding='ISO-8859-1')\n",
    "df.head()"
   ]
  },
  {
   "cell_type": "code",
   "execution_count": null,
   "metadata": {},
   "outputs": [],
   "source": [
    "## Task 3: Create the Pairplot\n",
    "g = sns.PairGrid(df)\n",
    "g.map_diag(sns.histplot)\n",
    "g.map_offdiag(sns.scatterplot)"
   ]
  },
  {
   "cell_type": "code",
   "execution_count": null,
   "metadata": {},
   "outputs": [],
   "source": [
    "## Task 4: Plot the Distribution of Categorical Features\n",
    "categorical_features = df.columns[df.dtypes =='object']\n",
    "plot_num = 1\n",
    "plt.figure(figsize=(20,10))\n",
    "for col in categorical_features:\n",
    "    ax = plt.subplot(3,4,plot_num)\n",
    "    sns.histplot(df[col], kde=True)\n",
    "    plot_num +=1\n",
    "\n",
    "plt.tight_layout()"
   ]
  },
  {
   "cell_type": "code",
   "execution_count": null,
   "metadata": {},
   "outputs": [],
   "source": [
    "## Task 5: Plot the Distribution of Numerical Features\n",
    "numerical_features = df.columns[df.dtypes !='object']\n",
    "plot_num = 1\n",
    "plt.figure(figsize=(20,10))\n",
    "for col in numerical_features:\n",
    "    ax = plt.subplot(3,3,plot_num)\n",
    "    sns.histplot(df[col], kde=True)\n",
    "    plot_num +=1\n",
    "\n",
    "plt.tight_layout()"
   ]
  },
  {
   "cell_type": "code",
   "execution_count": null,
   "metadata": {},
   "outputs": [],
   "source": [
    "## Task 6: Plot the Relation of Factors with Diseases\n",
    "\n",
    "#In this task, plot the relation of different factors with heart disease. To complete this task, perform the following steps:\n",
    "#Select different factors from the dataset.\n",
    "#Use a loop to iterate through the factors and plot the counterplot of each factor with the disease.\n",
    "\n",
    "selected_variables = ['General_Health', 'Exercise', 'Sex', 'Age_Category', 'Smoking_History', 'Depression']\n",
    "disease = 'Heart_Disease'\n",
    "plot_num = 1\n",
    "plt.figure(figsize=(20,10))\n",
    "for variable in selected_variables:\n",
    "    ax = plt.subplot(3,3, plot_num)\n",
    "    sns.countplot(data=df, x = variable, hue = disease)\n",
    "    plot_num += 1\n",
    "plt.tight_layout()"
   ]
  },
  {
   "cell_type": "markdown",
   "metadata": {},
   "source": [
    "## Task 7: Transform the Categorical Columns\n",
    "\n",
    "After plotting the distributions, preprocess the data by transforming the categorical data into numerical data. To complete this task, perform the following steps:\n",
    "\n",
    "Create a copy of the dataset so you don’t lose the actual data.\n",
    "Get the indexes of the categorical dataset.\n",
    "Use the fit_transform() method from the LabelEncoder() class to transform the data.\n",
    "Print the first five rows of the dataset."
   ]
  },
  {
   "cell_type": "code",
   "execution_count": null,
   "metadata": {},
   "outputs": [],
   "source": [
    "data = df.copy()\n",
    "categorical_features = df.columns[df.dtypes =='object']\n",
    "le = LabelEncoder()\n",
    "for i in categorical_features:\n",
    "    data[i] = le.fit_transform(data[i])\n",
    "data.head()"
   ]
  },
  {
   "cell_type": "code",
   "execution_count": null,
   "metadata": {},
   "outputs": [],
   "source": [
    "## Task 8: Split the Training and Testing Dataset\n",
    "X = data.drop('Heart_Disease', axis='columns')\n",
    "y = data['Heart_Disease']\n",
    "X_train, X_test, y_train, y_test = train_test_split(X, y, test_size=0.3, random_state=5)"
   ]
  },
  {
   "cell_type": "code",
   "execution_count": null,
   "metadata": {},
   "outputs": [],
   "source": [
    "## Task 9: Build the Classifier\n",
    "#After getting the training and testing dataset, build a model using the RandomForestClassifier from sklearn. To complete this task, use the RandomForestClassifier() class to build the model and pass the number of trees in each forest using n_estimator as an argument to this class.\n",
    "classifier = RandomForestClassifier(n_estimators=500)"
   ]
  },
  {
   "cell_type": "code",
   "execution_count": null,
   "metadata": {},
   "outputs": [],
   "source": [
    "## Task 10: Train the Classifier\n",
    "classifier.fit(X_train, y_train)"
   ]
  },
  {
   "cell_type": "code",
   "execution_count": null,
   "metadata": {},
   "outputs": [],
   "source": [
    "## Task 11: Get Predictions\n",
    "predictions = classifier.predict(X_test)\n",
    "prediction_probability = classifier.predict_proba(X_test)"
   ]
  },
  {
   "cell_type": "code",
   "execution_count": null,
   "metadata": {},
   "outputs": [],
   "source": [
    "## Task 12: Print Confusion Matrix and Accuracy\n",
    "print(\"Report: \\n\", classification_report(y_test, predictions))\n",
    "print('\\n')\n",
    "print(\"Roc Score: \", roc_auc_score(y_test, prediction_probability[:,1]))"
   ]
  }
 ],
 "metadata": {
  "language_info": {
   "name": "python"
  }
 },
 "nbformat": 4,
 "nbformat_minor": 2
}
